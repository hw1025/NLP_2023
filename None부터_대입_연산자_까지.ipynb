{
  "nbformat": 4,
  "nbformat_minor": 0,
  "metadata": {
    "colab": {
      "provenance": [],
      "authorship_tag": "ABX9TyMYqudBhnvY8laM073z9KmT",
      "include_colab_link": true
    },
    "kernelspec": {
      "name": "python3",
      "display_name": "Python 3"
    },
    "language_info": {
      "name": "python"
    }
  },
  "cells": [
    {
      "cell_type": "markdown",
      "metadata": {
        "id": "view-in-github",
        "colab_type": "text"
      },
      "source": [
        "<a href=\"https://colab.research.google.com/github/hw1025/NLP_2023/blob/main/None%EB%B6%80%ED%84%B0_%EB%8C%80%EC%9E%85_%EC%97%B0%EC%82%B0%EC%9E%90_%EA%B9%8C%EC%A7%80.ipynb\" target=\"_parent\"><img src=\"https://colab.research.google.com/assets/colab-badge.svg\" alt=\"Open In Colab\"/></a>"
      ]
    },
    {
      "cell_type": "code",
      "execution_count": 10,
      "metadata": {
        "colab": {
          "base_uri": "https://localhost:8080/"
        },
        "id": "0T7k7cMrVfzm",
        "outputId": "2970c932-cc84-4f5f-84fe-a2144fa11a93"
      },
      "outputs": [
        {
          "output_type": "stream",
          "name": "stdout",
          "text": [
            "[1, 2, 3]\n"
          ]
        }
      ],
      "source": [
        "val = None\n",
        "condition = 1\n",
        "if condition == 1:\n",
        "  val = [1,2,3]\n",
        "else:\n",
        "  val = 'I love python'\n",
        "print(val)"
      ]
    },
    {
      "cell_type": "code",
      "source": [
        "int_data=10\n",
        "bin_data=0b10\n",
        "oct_data=0o10\n",
        "hex_data=0x10\n",
        "long_data=1234567890123456789\n",
        "print(int_data)\n",
        "print(bin_data)\n",
        "print(hex_data)\n",
        "print(long_data)"
      ],
      "metadata": {
        "colab": {
          "base_uri": "https://localhost:8080/"
        },
        "id": "GRDRoIprXxnh",
        "outputId": "d1a19800-d236-4245-e64d-4af96ec6d15d"
      },
      "execution_count": 11,
      "outputs": [
        {
          "output_type": "stream",
          "name": "stdout",
          "text": [
            "10\n",
            "2\n",
            "16\n",
            "1234567890123456789\n"
          ]
        }
      ]
    },
    {
      "cell_type": "code",
      "source": [
        "f1=1.0\n",
        "f2=3.14\n",
        "f3=1.56e3\n",
        "f4=-0.7e-4\n",
        "print(f1)\n",
        "print(f2)\n",
        "print(f3)\n",
        "print(f4)"
      ],
      "metadata": {
        "colab": {
          "base_uri": "https://localhost:8080/"
        },
        "id": "2m76kDjtYokZ",
        "outputId": "d327f861-91df-4eb6-d222-8f5a4b4da2ba"
      },
      "execution_count": 12,
      "outputs": [
        {
          "output_type": "stream",
          "name": "stdout",
          "text": [
            "1.0\n",
            "3.14\n",
            "1560.0\n",
            "-7e-05\n"
          ]
        }
      ]
    },
    {
      "cell_type": "code",
      "source": [
        "c1=1+7j\n",
        "print(c1.real); print(c1.imag)\n",
        "c2= complex(2.-3)\n",
        "print(c2)"
      ],
      "metadata": {
        "colab": {
          "base_uri": "https://localhost:8080/"
        },
        "id": "aPiAUWunZCHh",
        "outputId": "df794c10-221e-4c9c-e5a7-526d71a9150f"
      },
      "execution_count": 15,
      "outputs": [
        {
          "output_type": "stream",
          "name": "stdout",
          "text": [
            "1.0\n",
            "7.0\n",
            "(-1+0j)\n"
          ]
        }
      ]
    },
    {
      "cell_type": "code",
      "source": [
        "a=1\n",
        "b=2\n",
        "ret=a+b\n",
        "print('a와b를 더한 값은',end='')\n",
        "print(ret,end='')\n",
        "print('입니다')"
      ],
      "metadata": {
        "colab": {
          "base_uri": "https://localhost:8080/"
        },
        "id": "7IFFvfdIZjPp",
        "outputId": "cbbe9f29-10b0-4885-8588-1ddf0530edae"
      },
      "execution_count": 22,
      "outputs": [
        {
          "output_type": "stream",
          "name": "stdout",
          "text": [
            "a와b를 더한 값은3입니다\n"
          ]
        }
      ]
    }
  ]
}