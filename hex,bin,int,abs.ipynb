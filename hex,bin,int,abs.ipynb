{
  "nbformat": 4,
  "nbformat_minor": 0,
  "metadata": {
    "colab": {
      "provenance": [],
      "authorship_tag": "ABX9TyNuP7HfJAdJs3Uf1l2rl0FN",
      "include_colab_link": true
    },
    "kernelspec": {
      "name": "python3",
      "display_name": "Python 3"
    },
    "language_info": {
      "name": "python"
    }
  },
  "cells": [
    {
      "cell_type": "markdown",
      "metadata": {
        "id": "view-in-github",
        "colab_type": "text"
      },
      "source": [
        "<a href=\"https://colab.research.google.com/github/hw1025/NLP_2023/blob/main/hex%2Cbin%2Cint%2Cabs.ipynb\" target=\"_parent\"><img src=\"https://colab.research.google.com/assets/colab-badge.svg\" alt=\"Open In Colab\"/></a>"
      ]
    },
    {
      "cell_type": "code",
      "execution_count": 1,
      "metadata": {
        "colab": {
          "base_uri": "https://localhost:8080/"
        },
        "id": "SUvt-f6Zpedp",
        "outputId": "b0dab15f-350e-4b36-8795-0b3ab9fd2a04"
      },
      "outputs": [
        {
          "output_type": "stream",
          "name": "stdout",
          "text": [
            "0x610x62\n",
            "0xc3\n"
          ]
        }
      ],
      "source": [
        "h1 = hex(97)\n",
        "h2 = hex(98)\n",
        "ret1 = h1+h2\n",
        "print(ret1)\n",
        "a = int(h1,16)\n",
        "b = int(h2,16)\n",
        "ret2 = a+b\n",
        "print(hex(ret2))"
      ]
    },
    {
      "cell_type": "code",
      "source": [
        "b1 = bin(97)\n",
        "b2 = bin(98)\n",
        "ret1 = b1+b2\n",
        "print(ret1)\n",
        "a = int(b1,2)\n",
        "b = int(b2,2)\n",
        "ret2 = a+b\n",
        "print(bin(ret2))"
      ],
      "metadata": {
        "colab": {
          "base_uri": "https://localhost:8080/"
        },
        "id": "roNIB1RtqLeD",
        "outputId": "5ee27fb2-ee86-4225-de8b-bcedf3f56c81"
      },
      "execution_count": 2,
      "outputs": [
        {
          "output_type": "stream",
          "name": "stdout",
          "text": [
            "0b11000010b1100010\n",
            "0b11000011\n"
          ]
        }
      ]
    },
    {
      "cell_type": "code",
      "source": [
        "bnum = 0b11110000; bstr = '0b11110000'\n",
        "onum = 0o360; ostr = '0o360'\n",
        "hnum = 0xf0; hstr = '0xf0'\n",
        "b1 = int(bnum); b2 = int(bstr,2)\n",
        "o1 = int(onum); o2 = int(ostr,8)\n",
        "h1 = int(hnum); h2 = int(hstr,16)\n",
        "print(b1);print(b2)\n",
        "print(o1);print(o2)\n",
        "print(h1);print(h2)"
      ],
      "metadata": {
        "colab": {
          "base_uri": "https://localhost:8080/"
        },
        "id": "DSSd0jPYqk0K",
        "outputId": "caa037a9-92b9-4455-a4fa-cfe48a1dc221"
      },
      "execution_count": 3,
      "outputs": [
        {
          "output_type": "stream",
          "name": "stdout",
          "text": [
            "240\n",
            "240\n",
            "240\n",
            "240\n",
            "240\n",
            "240\n"
          ]
        }
      ]
    },
    {
      "cell_type": "code",
      "source": [
        "abs1 = abs(-3)\n",
        "abs2 = abs(-5.72)\n",
        "abs3 = abs(3+4j)\n",
        "print(abs1)\n",
        "print(abs2)\n",
        "print(abs3)"
      ],
      "metadata": {
        "colab": {
          "base_uri": "https://localhost:8080/"
        },
        "id": "XADHFmEhrkz6",
        "outputId": "63d25272-2c51-4e40-e235-52a52308b340"
      },
      "execution_count": 5,
      "outputs": [
        {
          "output_type": "stream",
          "name": "stdout",
          "text": [
            "3\n",
            "5.72\n",
            "5.0\n"
          ]
        }
      ]
    },
    {
      "cell_type": "code",
      "source": [],
      "metadata": {
        "id": "cGXNdd4Yr0sc"
      },
      "execution_count": null,
      "outputs": []
    }
  ]
}