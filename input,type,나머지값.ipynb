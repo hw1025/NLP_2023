{
  "nbformat": 4,
  "nbformat_minor": 0,
  "metadata": {
    "colab": {
      "provenance": [],
      "authorship_tag": "ABX9TyNt8zPYfFparrhGwWwsq0wz",
      "include_colab_link": true
    },
    "kernelspec": {
      "name": "python3",
      "display_name": "Python 3"
    },
    "language_info": {
      "name": "python"
    }
  },
  "cells": [
    {
      "cell_type": "markdown",
      "metadata": {
        "id": "view-in-github",
        "colab_type": "text"
      },
      "source": [
        "<a href=\"https://colab.research.google.com/github/hw1025/NLP_2023/blob/main/input%2Ctype%2C%EB%82%98%EB%A8%B8%EC%A7%80%EA%B0%92.ipynb\" target=\"_parent\"><img src=\"https://colab.research.google.com/assets/colab-badge.svg\" alt=\"Open In Colab\"/></a>"
      ]
    },
    {
      "cell_type": "code",
      "execution_count": 1,
      "metadata": {
        "colab": {
          "base_uri": "https://localhost:8080/"
        },
        "id": "amIkb7kVWWO0",
        "outputId": "f7ad026c-9eb9-42c0-9113-d54eb3cd4348"
      },
      "outputs": [
        {
          "output_type": "stream",
          "name": "stdout",
          "text": [
            "<값>을 입력하세요 : 123\n",
            "당신이 입력한 값은 <123>입니다.\n"
          ]
        }
      ],
      "source": [
        "k=input('<값>을 입력하세요 : ')\n",
        "print('당신이 입력한 값은 <' + k + '>입니다.')"
      ]
    },
    {
      "cell_type": "code",
      "source": [
        "numdata = 57\n",
        "strdata = '파이썬'\n",
        "listdata = [1,2,3]\n",
        "dictdata = {'a',1,'b',2}\n",
        "\n",
        "def func():\n",
        "  print('안녕하세요')\n",
        "print(type(numdata))\n",
        "print(type(strdata))\n",
        "print(type(listdata))\n",
        "print(type(dictdata))\n",
        "print(type(func))"
      ],
      "metadata": {
        "colab": {
          "base_uri": "https://localhost:8080/"
        },
        "id": "_iagYJt2WvC-",
        "outputId": "1702b503-0713-4df7-8265-602d34e5824e"
      },
      "execution_count": 3,
      "outputs": [
        {
          "output_type": "stream",
          "name": "stdout",
          "text": [
            "<class 'int'>\n",
            "<class 'str'>\n",
            "<class 'list'>\n",
            "<class 'set'>\n",
            "<class 'function'>\n"
          ]
        }
      ]
    },
    {
      "cell_type": "code",
      "source": [
        "a=11113\n",
        "b=23\n",
        "ret = a%b\n",
        "print('<%d>를<%d>로 나누면 <%d>가 나머지로 남습니다.'%(a,b,ret))"
      ],
      "metadata": {
        "colab": {
          "base_uri": "https://localhost:8080/"
        },
        "id": "31P0GHVRXVxO",
        "outputId": "ac9de6a4-c188-4c42-8d03-95998afa556e"
      },
      "execution_count": 4,
      "outputs": [
        {
          "output_type": "stream",
          "name": "stdout",
          "text": [
            "<11113>를<23>로 나누면 <4>가 나머지로 남습니다.\n"
          ]
        }
      ]
    },
    {
      "cell_type": "code",
      "source": [
        "a=11113\n",
        "b=23\n",
        "ret1,ret2=divmod(a,b)\n",
        "print('<%d/%d>는 몫이 <%d>,나머지가 <%d>입니다.'%(a,b,ret1,ret2))"
      ],
      "metadata": {
        "colab": {
          "base_uri": "https://localhost:8080/"
        },
        "id": "lRcCYv4aX-2e",
        "outputId": "c853fff7-9b9c-440b-ad92-25bd22f2468c"
      },
      "execution_count": 5,
      "outputs": [
        {
          "output_type": "stream",
          "name": "stdout",
          "text": [
            "<11113/23>는 몫이 <483>,나머지가 <4>입니다.\n"
          ]
        }
      ]
    },
    {
      "cell_type": "code",
      "source": [],
      "metadata": {
        "id": "8F-RzitmYZWP"
      },
      "execution_count": null,
      "outputs": []
    }
  ]
}