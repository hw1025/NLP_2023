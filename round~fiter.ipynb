{
  "nbformat": 4,
  "nbformat_minor": 0,
  "metadata": {
    "colab": {
      "provenance": [],
      "authorship_tag": "ABX9TyMlBDojixhocRgAoCR2qWnX",
      "include_colab_link": true
    },
    "kernelspec": {
      "name": "python3",
      "display_name": "Python 3"
    },
    "language_info": {
      "name": "python"
    }
  },
  "cells": [
    {
      "cell_type": "markdown",
      "metadata": {
        "id": "view-in-github",
        "colab_type": "text"
      },
      "source": [
        "<a href=\"https://colab.research.google.com/github/hw1025/NLP_2023/blob/main/round~fiter.ipynb\" target=\"_parent\"><img src=\"https://colab.research.google.com/assets/colab-badge.svg\" alt=\"Open In Colab\"/></a>"
      ]
    },
    {
      "cell_type": "code",
      "execution_count": 1,
      "metadata": {
        "colab": {
          "base_uri": "https://localhost:8080/"
        },
        "id": "94t7UelhQv4_",
        "outputId": "3186d561-d4bc-4dbc-f3e6-2eddfbbd9b38"
      },
      "outputs": [
        {
          "output_type": "stream",
          "name": "stdout",
          "text": [
            "1118\n",
            "17\n",
            "1120\n",
            "16.55\n"
          ]
        }
      ],
      "source": [
        "ret1=round(1118)\n",
        "ret2=round(16.554)\n",
        "ret3=round(1118,-1)\n",
        "ret4=round(16.554,2)\n",
        "\n",
        "print(ret1)\n",
        "print(ret2)\n",
        "print(ret3)\n",
        "print(ret4)"
      ]
    },
    {
      "cell_type": "code",
      "source": [
        "idata1=int(-5.4)\n",
        "idata2=int(1.78e1)\n",
        "idata3=int(171.56)\n",
        "\n",
        "print(idata1)\n",
        "print(idata2)\n",
        "print(idata3)"
      ],
      "metadata": {
        "colab": {
          "base_uri": "https://localhost:8080/"
        },
        "id": "h5OaVtjHREtk",
        "outputId": "6bf0d438-6618-4c96-cc89-9158c5d588fa"
      },
      "execution_count": 2,
      "outputs": [
        {
          "output_type": "stream",
          "name": "stdout",
          "text": [
            "-5\n",
            "17\n",
            "171\n"
          ]
        }
      ]
    },
    {
      "cell_type": "code",
      "source": [
        "fdata=float(10)\n",
        "print(fdata)"
      ],
      "metadata": {
        "colab": {
          "base_uri": "https://localhost:8080/"
        },
        "id": "gk68eAHFRX0r",
        "outputId": "d9ba82a0-d4ed-4d62-cd8d-72c0e1e1e392"
      },
      "execution_count": 3,
      "outputs": [
        {
          "output_type": "stream",
          "name": "stdout",
          "text": [
            "10.0\n"
          ]
        }
      ]
    },
    {
      "cell_type": "code",
      "source": [
        "def getPrime(x):\n",
        "  for i in range(2,x-1):\n",
        "    if x%i==0:\n",
        "      break\n",
        "  else:\n",
        "    return x\n",
        "listdata=[117,119,1113,11113,11119]\n",
        "ret=filter(getPrime,listdata)\n",
        "print(list(ret))\n"
      ],
      "metadata": {
        "colab": {
          "base_uri": "https://localhost:8080/"
        },
        "id": "BhusQLTqRcJo",
        "outputId": "66a812e5-bd56-42a0-a900-e983173a7f67"
      },
      "execution_count": 4,
      "outputs": [
        {
          "output_type": "stream",
          "name": "stdout",
          "text": [
            "[11113, 11119]\n"
          ]
        }
      ]
    },
    {
      "cell_type": "code",
      "source": [],
      "metadata": {
        "id": "81HsOnlkR6EE"
      },
      "execution_count": null,
      "outputs": []
    }
  ]
}