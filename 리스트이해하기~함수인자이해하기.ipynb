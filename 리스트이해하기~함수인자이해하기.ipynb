{
  "nbformat": 4,
  "nbformat_minor": 0,
  "metadata": {
    "colab": {
      "provenance": [],
      "authorship_tag": "ABX9TyMarViP73nrklLD1qTwLfl3",
      "include_colab_link": true
    },
    "kernelspec": {
      "name": "python3",
      "display_name": "Python 3"
    },
    "language_info": {
      "name": "python"
    }
  },
  "cells": [
    {
      "cell_type": "markdown",
      "metadata": {
        "id": "view-in-github",
        "colab_type": "text"
      },
      "source": [
        "<a href=\"https://colab.research.google.com/github/hw1025/NLP_2023/blob/main/%EB%A6%AC%EC%8A%A4%ED%8A%B8%EC%9D%B4%ED%95%B4%ED%95%98%EA%B8%B0~%ED%95%A8%EC%88%98%EC%9D%B8%EC%9E%90%EC%9D%B4%ED%95%B4%ED%95%98%EA%B8%B0.ipynb\" target=\"_parent\"><img src=\"https://colab.research.google.com/assets/colab-badge.svg\" alt=\"Open In Colab\"/></a>"
      ]
    },
    {
      "cell_type": "code",
      "execution_count": 5,
      "metadata": {
        "colab": {
          "base_uri": "https://localhost:8080/"
        },
        "id": "--wBuOdd11dW",
        "outputId": "10c4d450-a532-4439-dbe3-202caa6be791"
      },
      "outputs": [
        {
          "output_type": "stream",
          "name": "stdout",
          "text": [
            "[6, 2, 3, 4, 5]\n",
            "안녕하세여\n"
          ]
        }
      ],
      "source": [
        "list1 = [1,2,3,4,5]\n",
        "list2 = ['a','b','c']\n",
        "list3 = [1,2,3,4,5],['a','b','c']\n",
        "list1[0] = 6\n",
        "print(list1)\n",
        "def myfunc():\n",
        "  print('안녕하세여')\n",
        "list4 = [1,2, myfunc]\n",
        "list4[2]()"
      ]
    },
    {
      "cell_type": "code",
      "source": [
        "tuple1 = (1,2,3,4,5)\n",
        "tuple2 = ('a','b','c')\n",
        "tuple3 = (1,'a','abc',[1,2,3,4,5],['a','b','c'] )\n",
        "\n",
        "\n",
        "def myfunc():\n",
        "  print('안녕하세여')\n",
        "tuple4 = (1,2,myfunc)\n",
        "tuple4[2]()"
      ],
      "metadata": {
        "colab": {
          "base_uri": "https://localhost:8080/"
        },
        "id": "cpo-zhRL2ubA",
        "outputId": "0bce4a75-fcda-4f74-d337-671ee8d68ba9"
      },
      "execution_count": 13,
      "outputs": [
        {
          "output_type": "stream",
          "name": "stdout",
          "text": [
            "안녕하세여\n"
          ]
        }
      ]
    },
    {
      "cell_type": "code",
      "source": [
        "def add_number(n1,n2):\n",
        "  ret=n1+n2\n",
        "  return ret\n",
        "\n",
        "def add_txt(t1,t2):\n",
        "  print(t1+t2)\n",
        "\n",
        "ans = add_number(10,15)\n",
        "print(ans)\n",
        "text1 = '대한민국'\n",
        "text2 = '민세'\n",
        "add_txt(text1,text2)"
      ],
      "metadata": {
        "colab": {
          "base_uri": "https://localhost:8080/"
        },
        "id": "66jxTSdz3zdT",
        "outputId": "a19add0b-1174-4eba-a83b-30eb002c1748"
      },
      "execution_count": 37,
      "outputs": [
        {
          "output_type": "stream",
          "name": "stdout",
          "text": [
            "25\n",
            "대한민국민세\n"
          ]
        }
      ]
    },
    {
      "cell_type": "code",
      "source": [
        "def add_txt(t1,t2='python'):\n",
        "  print(t1+':'+t2)\n",
        "add_txt('베스트')\n",
        "add_txt(t2='대한민국',t1='1등')\n",
        "\n",
        "def func1(*args):\n",
        "  print(args)\n",
        "\n",
        "def func2(width,height,**kwargs):\n",
        "  print(kwargs)\n",
        "\n",
        "func1()\n",
        "func1(3,5,1,5)\n",
        "func2(10,20)\n",
        "func2(10,20,depth=50,color='bule')\n"
      ],
      "metadata": {
        "colab": {
          "base_uri": "https://localhost:8080/"
        },
        "id": "GkGN0lNT41Io",
        "outputId": "a910a562-1470-4ae0-b71d-c3164baa606c"
      },
      "execution_count": 40,
      "outputs": [
        {
          "output_type": "stream",
          "name": "stdout",
          "text": [
            "베스트:python\n",
            "1등:대한민국\n",
            "()\n",
            "(3, 5, 1, 5)\n",
            "{}\n",
            "{'depth': 50, 'color': 'bule'}\n"
          ]
        }
      ]
    }
  ]
}