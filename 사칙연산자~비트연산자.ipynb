{
  "nbformat": 4,
  "nbformat_minor": 0,
  "metadata": {
    "colab": {
      "provenance": [],
      "authorship_tag": "ABX9TyOlsl2YLJmkHLarXFP00PdV",
      "include_colab_link": true
    },
    "kernelspec": {
      "name": "python3",
      "display_name": "Python 3"
    },
    "language_info": {
      "name": "python"
    }
  },
  "cells": [
    {
      "cell_type": "markdown",
      "metadata": {
        "id": "view-in-github",
        "colab_type": "text"
      },
      "source": [
        "<a href=\"https://colab.research.google.com/github/hw1025/NLP_2023/blob/main/%EC%82%AC%EC%B9%99%EC%97%B0%EC%82%B0%EC%9E%90~%EB%B9%84%ED%8A%B8%EC%97%B0%EC%82%B0%EC%9E%90.ipynb\" target=\"_parent\"><img src=\"https://colab.research.google.com/assets/colab-badge.svg\" alt=\"Open In Colab\"/></a>"
      ]
    },
    {
      "cell_type": "code",
      "execution_count": 2,
      "metadata": {
        "colab": {
          "base_uri": "https://localhost:8080/"
        },
        "id": "WKbsC4j60AbB",
        "outputId": "8d7c56b3-5943-466b-f19d-d82f1640a48d"
      },
      "outputs": [
        {
          "output_type": "stream",
          "name": "stdout",
          "text": [
            "6\n",
            "-2\n",
            "8\n",
            "0.5\n",
            "16\n",
            "6.0\n",
            "-12\n",
            "32\n"
          ]
        }
      ],
      "source": [
        "a=2\n",
        "b=4\n",
        "ret1=a+b\n",
        "ret2=a-b\n",
        "ret3=a*b\n",
        "ret4=a/b\n",
        "ret5=a**b\n",
        "ret6=a+a*b/a\n",
        "ret7=(a+b)*(a-b)\n",
        "ret8=a*b**a\n",
        "print(ret1)\n",
        "print(ret2)\n",
        "print(ret3)\n",
        "print(ret4)\n",
        "print(ret5)\n",
        "print(ret6)\n",
        "print(ret7)\n",
        "print(ret8)"
      ]
    },
    {
      "cell_type": "code",
      "source": [
        "a=True\n",
        "b=False\n",
        "print(a==1)\n",
        "print(b!=0)"
      ],
      "metadata": {
        "colab": {
          "base_uri": "https://localhost:8080/"
        },
        "id": "H5hhsGnN08bx",
        "outputId": "7add05e6-1fb2-4106-dc81-c59ecde9d869"
      },
      "execution_count": 6,
      "outputs": [
        {
          "output_type": "stream",
          "name": "stdout",
          "text": [
            "True\n",
            "False\n"
          ]
        }
      ]
    },
    {
      "cell_type": "code",
      "source": [
        "x=1;y=2\n",
        "str1='abc';str2='python'\n",
        "print(x==y)\n",
        "print(x!=y)\n",
        "print(str1==str2)\n",
        "print(str2=='python')\n",
        "print(str1<str2)"
      ],
      "metadata": {
        "colab": {
          "base_uri": "https://localhost:8080/"
        },
        "id": "I64FMXW511be",
        "outputId": "a1ace739-fb0c-410c-ab0d-da0441060b0a"
      },
      "execution_count": 8,
      "outputs": [
        {
          "output_type": "stream",
          "name": "stdout",
          "text": [
            "False\n",
            "True\n",
            "False\n",
            "True\n",
            "True\n"
          ]
        }
      ]
    },
    {
      "cell_type": "code",
      "source": [
        "bool1=True;bool2=False;bool3=True;bool4=False\n",
        "print(bool1 and bool2)\n",
        "print(bool1 and bool3)\n",
        "print(bool2 or bool3)\n",
        "print(bool2 or bool4)\n",
        "print(not bool1)\n",
        "print(not bool2)"
      ],
      "metadata": {
        "colab": {
          "base_uri": "https://localhost:8080/"
        },
        "id": "7fzaFBKy2acP",
        "outputId": "f752c3e7-0ecc-4dda-b328-163b5da3bc5c"
      },
      "execution_count": 11,
      "outputs": [
        {
          "output_type": "stream",
          "name": "stdout",
          "text": [
            "False\n",
            "True\n",
            "True\n",
            "False\n",
            "False\n",
            "True\n"
          ]
        }
      ]
    },
    {
      "cell_type": "code",
      "source": [
        "bit1=0x61\n",
        "bit2=0x62\n",
        "print(hex(bit1 & bit2))\n",
        "print(hex(bit1 | bit2))\n",
        "print(hex(bit1 ^ bit2))\n",
        "print(hex(bit1 >> 1))\n",
        "print(hex(bit1 << 2))"
      ],
      "metadata": {
        "colab": {
          "base_uri": "https://localhost:8080/"
        },
        "id": "PNfMZiWX3Mow",
        "outputId": "a824ebc9-98e2-4368-f3a3-505a300dec1e"
      },
      "execution_count": 12,
      "outputs": [
        {
          "output_type": "stream",
          "name": "stdout",
          "text": [
            "0x60\n",
            "0x63\n",
            "0x3\n",
            "0x30\n",
            "0x184\n"
          ]
        }
      ]
    }
  ]
}