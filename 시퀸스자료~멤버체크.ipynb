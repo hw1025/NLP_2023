{
  "nbformat": 4,
  "nbformat_minor": 0,
  "metadata": {
    "colab": {
      "provenance": [],
      "authorship_tag": "ABX9TyNoXbuaRapsJuXOm9doIH+R",
      "include_colab_link": true
    },
    "kernelspec": {
      "name": "python3",
      "display_name": "Python 3"
    },
    "language_info": {
      "name": "python"
    }
  },
  "cells": [
    {
      "cell_type": "markdown",
      "metadata": {
        "id": "view-in-github",
        "colab_type": "text"
      },
      "source": [
        "<a href=\"https://colab.research.google.com/github/hw1025/NLP_2023/blob/main/%EC%8B%9C%ED%80%B8%EC%8A%A4%EC%9E%90%EB%A3%8C~%EB%A9%A4%EB%B2%84%EC%B2%B4%ED%81%AC.ipynb\" target=\"_parent\"><img src=\"https://colab.research.google.com/assets/colab-badge.svg\" alt=\"Open In Colab\"/></a>"
      ]
    },
    {
      "cell_type": "code",
      "execution_count": 2,
      "metadata": {
        "colab": {
          "base_uri": "https://localhost:8080/"
        },
        "id": "n51H5PZxqn0H",
        "outputId": "f8a1451d-a5da-4f95-c3d6-554598c062d8"
      },
      "outputs": [
        {
          "output_type": "stream",
          "name": "stdout",
          "text": [
            "abcde [1, [2, 3], '안녕'] (100, 200, 300)\n"
          ]
        }
      ],
      "source": [
        "strdata='abcde'\n",
        "listdata=[1,[2,3],'안녕']\n",
        "tupledata=(100,200,300)\n",
        "print(strdata,listdata,tupledata)"
      ]
    },
    {
      "cell_type": "code",
      "source": [
        "strdata=\"Time is money!!\"\n",
        "listdata=[1,2,[1,2,3]]\n",
        "print(strdata[5])\n",
        "print(strdata[-2])\n",
        "print(listdata[0])\n",
        "print(listdata[-1])\n",
        "print(listdata[2][-1])"
      ],
      "metadata": {
        "colab": {
          "base_uri": "https://localhost:8080/"
        },
        "id": "8WrxygaMrHOX",
        "outputId": "68894684-bbec-41c0-a3bf-433c5585bdfa"
      },
      "execution_count": 4,
      "outputs": [
        {
          "output_type": "stream",
          "name": "stdout",
          "text": [
            "i\n",
            "!\n",
            "1\n",
            "[1, 2, 3]\n",
            "3\n"
          ]
        }
      ]
    },
    {
      "cell_type": "code",
      "source": [
        "strdata1='I love';strdata2='python';strdata3='you'\n",
        "listdata1=[1,2,3];listdata2=[4,5,6]\n",
        "print(strdata1 + strdata2)\n",
        "print(strdata1 + strdata3)\n",
        "print(listdata1+listdata2)"
      ],
      "metadata": {
        "colab": {
          "base_uri": "https://localhost:8080/"
        },
        "id": "09lf6AeFruDP",
        "outputId": "1877c29b-2a79-464f-b007-dc20179603b7"
      },
      "execution_count": 7,
      "outputs": [
        {
          "output_type": "stream",
          "name": "stdout",
          "text": [
            "I lovepython\n",
            "I loveyou\n",
            "[1, 2, 3, 4, 5, 6]\n"
          ]
        }
      ]
    },
    {
      "cell_type": "code",
      "source": [
        "artist='빅뱅'\n",
        "sing='뱅~'\n",
        "dispdata=artist+'이 부르는'+sing*3\n",
        "print(dispdata)"
      ],
      "metadata": {
        "colab": {
          "base_uri": "https://localhost:8080/"
        },
        "id": "HpO0QoSosNo2",
        "outputId": "efdf1684-d1ce-4038-8e87-757d6c19b829"
      },
      "execution_count": 8,
      "outputs": [
        {
          "output_type": "stream",
          "name": "stdout",
          "text": [
            "빅뱅이 부르는뱅~뱅~뱅~\n"
          ]
        }
      ]
    },
    {
      "cell_type": "code",
      "source": [
        "strdata1='I love python'\n",
        "strdata2='나는 파이썬을 사랑합니다'\n",
        "listdata=['a','b','c',strdata1,strdata2]\n",
        "print(len(strdata1))\n",
        "print(len(strdata2))\n",
        "print(len(listdata))\n",
        "print(len(listdata[3]))"
      ],
      "metadata": {
        "colab": {
          "base_uri": "https://localhost:8080/"
        },
        "id": "V5xHLqPWsohF",
        "outputId": "8449003b-de2c-4cd8-dbbf-ade61807ab6d"
      },
      "execution_count": 9,
      "outputs": [
        {
          "output_type": "stream",
          "name": "stdout",
          "text": [
            "13\n",
            "13\n",
            "5\n",
            "13\n"
          ]
        }
      ]
    },
    {
      "cell_type": "code",
      "source": [
        "listdata=[1,2,3,4]\n",
        "ret1=5 in listdata\n",
        "ret2=4 in listdata\n",
        "print(ret1);print(ret2)\n",
        "strdata='abcde'\n",
        "ret3='c' in strdata\n",
        "ret4='1' in strdata\n",
        "print(ret3);print(ret4)"
      ],
      "metadata": {
        "colab": {
          "base_uri": "https://localhost:8080/"
        },
        "id": "P3lc8DQ7tORe",
        "outputId": "998fd6b7-cfbf-4abd-d948-44ed3affdfed"
      },
      "execution_count": 10,
      "outputs": [
        {
          "output_type": "stream",
          "name": "stdout",
          "text": [
            "False\n",
            "True\n",
            "True\n",
            "False\n"
          ]
        }
      ]
    }
  ]
}