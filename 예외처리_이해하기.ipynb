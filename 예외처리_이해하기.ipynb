{
  "nbformat": 4,
  "nbformat_minor": 0,
  "metadata": {
    "colab": {
      "provenance": [],
      "authorship_tag": "ABX9TyPy59DR5SsD2EbOSqPLuHTp",
      "include_colab_link": true
    },
    "kernelspec": {
      "name": "python3",
      "display_name": "Python 3"
    },
    "language_info": {
      "name": "python"
    }
  },
  "cells": [
    {
      "cell_type": "markdown",
      "metadata": {
        "id": "view-in-github",
        "colab_type": "text"
      },
      "source": [
        "<a href=\"https://colab.research.google.com/github/hw1025/NLP_2023/blob/main/%EC%98%88%EC%99%B8%EC%B2%98%EB%A6%AC_%EC%9D%B4%ED%95%B4%ED%95%98%EA%B8%B0.ipynb\" target=\"_parent\"><img src=\"https://colab.research.google.com/assets/colab-badge.svg\" alt=\"Open In Colab\"/></a>"
      ]
    },
    {
      "cell_type": "code",
      "execution_count": 1,
      "metadata": {
        "colab": {
          "base_uri": "https://localhost:8080/"
        },
        "id": "8mKE1_uN3QxJ",
        "outputId": "596cab33-a664-4413-b31e-a2de07b3dc1e"
      },
      "outputs": [
        {
          "output_type": "stream",
          "name": "stdout",
          "text": [
            "안녕하세요\n",
            "예외가 발생했습니다.\n"
          ]
        }
      ],
      "source": [
        "try:\n",
        "  print('안녕하세요')\n",
        "  print(param)\n",
        "\n",
        "except:\n",
        "  print('예외가 발생했습니다.')"
      ]
    },
    {
      "cell_type": "code",
      "source": [
        "try:\n",
        "  print('안녕하세요')\n",
        "##  print(param)\n",
        "except:\n",
        "  print('예외가 발생했습니다.')\n",
        "\n",
        "else:\n",
        "  print('예외가 발생하지 않았습니다.')"
      ],
      "metadata": {
        "colab": {
          "base_uri": "https://localhost:8080/"
        },
        "id": "cQVVA38F4DJo",
        "outputId": "129cf209-9cad-4044-c803-46a7728294c1"
      },
      "execution_count": 3,
      "outputs": [
        {
          "output_type": "stream",
          "name": "stdout",
          "text": [
            "안녕하세요\n",
            "예외가 발생하지 않았습니다.\n"
          ]
        }
      ]
    },
    {
      "cell_type": "code",
      "source": [
        "try:\n",
        "  print('안녕하세요')\n",
        "  print(param)\n",
        "\n",
        "except:\n",
        "  print('예외가 발생했습니다.')\n",
        "finally:\n",
        "  print('무조건 실행하는 코드')"
      ],
      "metadata": {
        "colab": {
          "base_uri": "https://localhost:8080/"
        },
        "id": "LnymWppm4Oof",
        "outputId": "1ffc7342-9bf8-451c-8044-b8fd36c686ab"
      },
      "execution_count": 4,
      "outputs": [
        {
          "output_type": "stream",
          "name": "stdout",
          "text": [
            "안녕하세요\n",
            "예외가 발생했습니다.\n",
            "무조건 실행하는 코드\n"
          ]
        }
      ]
    },
    {
      "cell_type": "code",
      "source": [
        "try:\n",
        "  print(param)\n",
        "\n",
        "except Exception as e:\n",
        "  print(e)"
      ],
      "metadata": {
        "colab": {
          "base_uri": "https://localhost:8080/"
        },
        "id": "qm0F_jZ_4k_2",
        "outputId": "a08804ac-0c93-462a-b7da-3c26423c96da"
      },
      "execution_count": 6,
      "outputs": [
        {
          "output_type": "stream",
          "name": "stdout",
          "text": [
            "name 'param' is not defined\n"
          ]
        }
      ]
    },
    {
      "cell_type": "code",
      "source": [
        "import time\n",
        "count=1\n",
        "try:\n",
        "  while True:\n",
        "    count+=1\n",
        "    time.sleep(0.5)\n",
        "except KeyboardInterrupt:\n",
        "  print('사용자의 의해 프로그램이 중단되었습니다.')"
      ],
      "metadata": {
        "colab": {
          "base_uri": "https://localhost:8080/"
        },
        "id": "V5kLzmVC4whW",
        "outputId": "b3884bff-6af0-4e10-8964-b4eaaaa61d91"
      },
      "execution_count": 7,
      "outputs": [
        {
          "output_type": "stream",
          "name": "stdout",
          "text": [
            "사용자의 의해 프로그램이 중단되었습니다.\n"
          ]
        }
      ]
    },
    {
      "cell_type": "code",
      "source": [],
      "metadata": {
        "id": "zgBAYKYZ5Vqg"
      },
      "execution_count": null,
      "outputs": []
    }
  ]
}