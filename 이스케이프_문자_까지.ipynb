{
  "nbformat": 4,
  "nbformat_minor": 0,
  "metadata": {
    "colab": {
      "provenance": [],
      "authorship_tag": "ABX9TyOCJvpbsZ4jwk6lBYQwpkK8",
      "include_colab_link": true
    },
    "kernelspec": {
      "name": "python3",
      "display_name": "Python 3"
    },
    "language_info": {
      "name": "python"
    }
  },
  "cells": [
    {
      "cell_type": "markdown",
      "metadata": {
        "id": "view-in-github",
        "colab_type": "text"
      },
      "source": [
        "<a href=\"https://colab.research.google.com/github/hw1025/NLP_2023/blob/main/%EC%9D%B4%EC%8A%A4%EC%BC%80%EC%9D%B4%ED%94%84_%EB%AC%B8%EC%9E%90_%EA%B9%8C%EC%A7%80.ipynb\" target=\"_parent\"><img src=\"https://colab.research.google.com/assets/colab-badge.svg\" alt=\"Open In Colab\"/></a>"
      ]
    },
    {
      "cell_type": "code",
      "execution_count": 1,
      "metadata": {
        "colab": {
          "base_uri": "https://localhost:8080/"
        },
        "id": "-IhHW0Dti2k7",
        "outputId": "6c859828-fd69-47d5-dfdb-4b13bae14132"
      },
      "outputs": [
        {
          "output_type": "stream",
          "name": "stdout",
          "text": [
            "False\n",
            "True\n",
            "True\n",
            "False\n"
          ]
        }
      ],
      "source": [
        "listdata=[1,2,3,4]\n",
        "ret1=5 in listdata\n",
        "ret2=4 in listdata\n",
        "print(ret1);print(ret2)\n",
        "strdata='abcde'\n",
        "ret3='c' in strdata\n",
        "ret4='i' in strdata\n",
        "print(ret3);print(ret4)"
      ]
    },
    {
      "cell_type": "code",
      "source": [
        "strdata1='나는 파이썬 프로그래머다.'\n",
        "strdata2=\"you are a programmer\"\n",
        "strdata3=''' i love\n",
        "pyrhon too!\n",
        "'''\n",
        "strdata4 = \"my son's name is jone\"\n",
        "strdata5 = '문자열 \"abc\"의 길이는 3입니다.'\n",
        "print(strdata3)\n",
        "print(strdata5)"
      ],
      "metadata": {
        "colab": {
          "base_uri": "https://localhost:8080/"
        },
        "id": "H6Yu5Tsbjnbt",
        "outputId": "ab142312-5d77-46cf-a10f-8f42760e21b4"
      },
      "execution_count": 5,
      "outputs": [
        {
          "output_type": "stream",
          "name": "stdout",
          "text": [
            " i love\n",
            "pyrhon too!\n",
            "\n",
            "문자열 \"abc\"의 길이는 3입니다.\n"
          ]
        }
      ]
    },
    {
      "cell_type": "code",
      "source": [
        "txt1='자바';txt2='파이썬'\n",
        "num1=5;num2=10\n",
        "print('나는 %s보다 %s에 더 익숙합니다.'%(txt1,txt2))\n",
        "print('%s은 %s보다 %d배 더쉽습니다'%(txt2,txt1,num1))\n",
        "print('%d+%d=%d'%(num1,num2,num1+num2))\n",
        "print('작년 세계 경제 성장률은 전년에 비해 %d%% 포인트 증가했다.'%num1)"
      ],
      "metadata": {
        "colab": {
          "base_uri": "https://localhost:8080/"
        },
        "id": "fvqfcucYlBtU",
        "outputId": "961da3a9-7306-4926-96f9-686597641339"
      },
      "execution_count": 7,
      "outputs": [
        {
          "output_type": "stream",
          "name": "stdout",
          "text": [
            "나는 자바보다 파이썬에 더 익숙합니다.\n",
            "파이썬은 자바보다 5배 더쉽습니다\n",
            "5+10=15\n",
            "작년 세계 경제 성장률은 전년에 비해 5% 포인트 증가했다.\n"
          ]
        }
      ]
    },
    {
      "cell_type": "code",
      "source": [
        "from time import sleep\n",
        "for i in range(100):\n",
        "  msg = '|r진행률%d%%'%(i+1)\n",
        "  print(''*len(msg),end='')\n",
        "  print(msg,end='')\n",
        "  sleep(0.1)"
      ],
      "metadata": {
        "colab": {
          "base_uri": "https://localhost:8080/"
        },
        "id": "bg9SKBshlUKk",
        "outputId": "0f38fb80-ad92-4acc-8d19-8a62da1a0412"
      },
      "execution_count": 9,
      "outputs": [
        {
          "output_type": "stream",
          "name": "stdout",
          "text": [
            "|r진행률1%|r진행률2%|r진행률3%|r진행률4%|r진행률5%|r진행률6%|r진행률7%|r진행률8%|r진행률9%|r진행률10%|r진행률11%|r진행률12%|r진행률13%|r진행률14%|r진행률15%|r진행률16%|r진행률17%|r진행률18%|r진행률19%|r진행률20%|r진행률21%|r진행률22%|r진행률23%|r진행률24%|r진행률25%|r진행률26%|r진행률27%|r진행률28%|r진행률29%|r진행률30%|r진행률31%|r진행률32%|r진행률33%|r진행률34%|r진행률35%|r진행률36%|r진행률37%|r진행률38%|r진행률39%|r진행률40%|r진행률41%|r진행률42%|r진행률43%|r진행률44%|r진행률45%|r진행률46%|r진행률47%|r진행률48%|r진행률49%|r진행률50%|r진행률51%|r진행률52%|r진행률53%|r진행률54%|r진행률55%|r진행률56%|r진행률57%|r진행률58%|r진행률59%|r진행률60%|r진행률61%|r진행률62%|r진행률63%|r진행률64%|r진행률65%|r진행률66%|r진행률67%|r진행률68%|r진행률69%|r진행률70%|r진행률71%|r진행률72%|r진행률73%|r진행률74%|r진행률75%|r진행률76%|r진행률77%|r진행률78%|r진행률79%|r진행률80%|r진행률81%|r진행률82%|r진행률83%|r진행률84%|r진행률85%|r진행률86%|r진행률87%|r진행률88%|r진행률89%|r진행률90%|r진행률91%|r진행률92%|r진행률93%|r진행률94%|r진행률95%|r진행률96%|r진행률97%|r진행률98%|r진행률99%|r진행률100%"
          ]
        }
      ]
    },
    {
      "cell_type": "code",
      "source": [
        "print('나는 파이썬을 사랑합니다. |n파이썬은 자바 보다 휠씬 쉽습니다.')\n",
        "print('name: jone Smith|tsex:male|tAge:22')\n",
        "print('이문장은 화면폭에 비해 너무 길어 보기가 힘듭니다. \\\n",
        "그래서 ||Enter키를 이용해 문자을 다음줄과 연속되도록 했습니다.')\n",
        "print('작은 따옴표(\\')와 큰따옴표(\"\")는 문자열을 정의할 때 사용합니다.')\n"
      ],
      "metadata": {
        "colab": {
          "base_uri": "https://localhost:8080/"
        },
        "id": "IwLiBXppm-fU",
        "outputId": "73961a46-f112-47cb-d740-e2b5e9b347d3"
      },
      "execution_count": 12,
      "outputs": [
        {
          "output_type": "stream",
          "name": "stdout",
          "text": [
            "나는 파이썬을 사랑합니다. |n파이썬은 자바 보다 휠씬 쉽습니다.\n",
            "name: jone Smith|tsex:male|tAge:22\n",
            "이문장은 화면폭에 비해 너무 길어 보기가 힘듭니다. 그래서 ||Enter키를 이용해 문자을 다음줄과 연속되도록 했습니다.\n",
            "작은 따옴표(')와 큰따옴표(\"\")는 문자열을 정의할 때 사용합니다.\n"
          ]
        }
      ]
    }
  ]
}