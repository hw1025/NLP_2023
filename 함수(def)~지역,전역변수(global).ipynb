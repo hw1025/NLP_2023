{
  "nbformat": 4,
  "nbformat_minor": 0,
  "metadata": {
    "colab": {
      "provenance": [],
      "authorship_tag": "ABX9TyPjRbPnWGitalvyM/T90MeV",
      "include_colab_link": true
    },
    "kernelspec": {
      "name": "python3",
      "display_name": "Python 3"
    },
    "language_info": {
      "name": "python"
    }
  },
  "cells": [
    {
      "cell_type": "markdown",
      "metadata": {
        "id": "view-in-github",
        "colab_type": "text"
      },
      "source": [
        "<a href=\"https://colab.research.google.com/github/hw1025/NLP_2023/blob/main/%ED%95%A8%EC%88%98(def)~%EC%A7%80%EC%97%AD%2C%EC%A0%84%EC%97%AD%EB%B3%80%EC%88%98(global).ipynb\" target=\"_parent\"><img src=\"https://colab.research.google.com/assets/colab-badge.svg\" alt=\"Open In Colab\"/></a>"
      ]
    },
    {
      "cell_type": "code",
      "execution_count": 5,
      "metadata": {
        "colab": {
          "base_uri": "https://localhost:8080/"
        },
        "id": "pgKOmRV6za10",
        "outputId": "d76efeaf-3896-4a38-8fc0-a66aa9ab48e2"
      },
      "outputs": [
        {
          "output_type": "stream",
          "name": "stdout",
          "text": [
            "1\n",
            "{'a': 1, 'b': 2, 'c': 3, 'd': 4}\n",
            "{'a': 1, 'b': 7, 'c': 3, 'd': 4}\n",
            "4\n"
          ]
        }
      ],
      "source": [
        "dict1={'a':1,'b':2,'c':3}\n",
        "print(dict1['a'])\n",
        "dict1['d']=4\n",
        "print(dict1)\n",
        "dict1['b']=7\n",
        "print(dict1)\n",
        "print(len(dict1))"
      ]
    },
    {
      "cell_type": "code",
      "source": [
        "def add_txt(t1,t2='파이썬'):\n",
        "  print(t1+':'+t2)\n",
        "\n",
        "add_txt('베스트')\n",
        "add_txt(t2='대한민국',t1='1등')\n",
        "\n",
        "def func1(*args):\n",
        "  print(args)\n",
        "\n",
        "def func2(width,height,**kwargs):\n",
        "  print(kwargs)\n",
        "\n",
        "func1()\n",
        "func1(3,5,1,5)\n",
        "func2(10,20)\n",
        "func2(10,20,depth=50,color='blue')\n"
      ],
      "metadata": {
        "colab": {
          "base_uri": "https://localhost:8080/"
        },
        "id": "wE1zEDzDz8fF",
        "outputId": "edb2d395-adc3-4dc0-f23e-6fd732c20efa"
      },
      "execution_count": 7,
      "outputs": [
        {
          "output_type": "stream",
          "name": "stdout",
          "text": [
            "베스트:파이썬\n",
            "1등:대한민국\n",
            "()\n",
            "(3, 5, 1, 5)\n",
            "{}\n",
            "{'depth': 50, 'color': 'blue'}\n"
          ]
        }
      ]
    },
    {
      "cell_type": "code",
      "source": [
        "param=10\n",
        "strdata='전역변수'\n",
        "\n",
        "def func1():\n",
        "  strdata='지역변수'\n",
        "  print(strdata)\n",
        "\n",
        "def func2(param):\n",
        "  param=1\n",
        "\n",
        "def func3():\n",
        "  global param\n",
        "  param=50\n",
        "\n",
        "func1()\n",
        "print(strdata)\n",
        "print(param)\n",
        "func2(param)\n",
        "print(param)\n",
        "func3()\n",
        "print(param)"
      ],
      "metadata": {
        "colab": {
          "base_uri": "https://localhost:8080/"
        },
        "id": "HjkcsUaO1MKs",
        "outputId": "459a5c89-6075-4774-a8e4-d4b940711de3"
      },
      "execution_count": 8,
      "outputs": [
        {
          "output_type": "stream",
          "name": "stdout",
          "text": [
            "지역변수\n",
            "전역변수\n",
            "10\n",
            "10\n",
            "50\n"
          ]
        }
      ]
    }
  ]
}