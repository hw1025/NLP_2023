{
  "nbformat": 4,
  "nbformat_minor": 0,
  "metadata": {
    "colab": {
      "provenance": [],
      "authorship_tag": "ABX9TyMZtNegHXrfdnSEjZVtQYhA",
      "include_colab_link": true
    },
    "kernelspec": {
      "name": "python3",
      "display_name": "Python 3"
    },
    "language_info": {
      "name": "python"
    }
  },
  "cells": [
    {
      "cell_type": "markdown",
      "metadata": {
        "id": "view-in-github",
        "colab_type": "text"
      },
      "source": [
        "<a href=\"https://colab.research.google.com/github/hw1025/NLP_2023/blob/main/%ED%95%A8%EC%88%98%EB%A6%AC%ED%84%B4%EA%B0%92~%ED%81%B4%EB%9E%98%EC%8A%A4%EA%B0%9D%EC%B2%B4.ipynb\" target=\"_parent\"><img src=\"https://colab.research.google.com/assets/colab-badge.svg\" alt=\"Open In Colab\"/></a>"
      ]
    },
    {
      "cell_type": "code",
      "execution_count": 2,
      "metadata": {
        "colab": {
          "base_uri": "https://localhost:8080/"
        },
        "id": "Gr12f4wm9Ejt",
        "outputId": "af302ad1-c03a-4f40-db46-5f93ddb06603"
      },
      "outputs": [
        {
          "output_type": "stream",
          "name": "stdout",
          "text": [
            "(3, 2, 1)\n",
            "c\n",
            "b\n",
            "a\n"
          ]
        }
      ],
      "source": [
        "def reverse(x,y,z):\n",
        "  return z,y,x\n",
        "\n",
        "ret = reverse(1,2,3)\n",
        "print(ret)\n",
        "\n",
        "r1,r2,r3 = reverse('a','b','c')\n",
        "print(r1); print(r2); print(r3)"
      ]
    },
    {
      "cell_type": "code",
      "source": [
        "import time\n",
        "\n",
        "print('5초간 프로그램을 정지합니다.')\n",
        "time.sleep(5)\n",
        "print('5초가 지났습니다.')"
      ],
      "metadata": {
        "colab": {
          "base_uri": "https://localhost:8080/"
        },
        "id": "1fezOz9m-G9G",
        "outputId": "7ed01ca1-f52d-4be1-d159-408ab8d7bdb7"
      },
      "execution_count": 3,
      "outputs": [
        {
          "output_type": "stream",
          "name": "stdout",
          "text": [
            "5초간 프로그램을 정지합니다.\n",
            "5초가 지났습니다.\n"
          ]
        }
      ]
    },
    {
      "cell_type": "code",
      "source": [
        "class MYClass:\n",
        "  var='안녕하세요'\n",
        "  def sayHello(self):\n",
        "    print(self.var)\n",
        "\n",
        "obj = MYClass()\n",
        "print(obj)\n",
        "obj.sayHello()"
      ],
      "metadata": {
        "colab": {
          "base_uri": "https://localhost:8080/"
        },
        "id": "E7jCy8qgA-bo",
        "outputId": "eded3119-10ad-4faf-a8b7-bfc5752898ff"
      },
      "execution_count": 9,
      "outputs": [
        {
          "output_type": "stream",
          "name": "stdout",
          "text": [
            "<__main__.MYClass object at 0x7e2b13572aa0>\n",
            "안녕하세요\n"
          ]
        }
      ]
    },
    {
      "cell_type": "code",
      "source": [
        "class MYClass:\n",
        "  var='안녕하세요!'\n",
        "  def sayHello(self):\n",
        "    param1='안녕'\n",
        "    self.parram2='하이'\n",
        "    print(param1)\n",
        "    print(self.var)\n",
        "\n",
        "obj=MYClass()\n",
        "print(obj.var)\n",
        "obj.sayHello()"
      ],
      "metadata": {
        "colab": {
          "base_uri": "https://localhost:8080/"
        },
        "id": "olvR5oxQBTi4",
        "outputId": "bf66a518-c352-4201-fbed-98bfab01f0c6"
      },
      "execution_count": 10,
      "outputs": [
        {
          "output_type": "stream",
          "name": "stdout",
          "text": [
            "안녕하세요!\n",
            "안녕\n",
            "안녕하세요!\n"
          ]
        }
      ]
    }
  ]
}